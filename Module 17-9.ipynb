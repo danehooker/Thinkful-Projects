{
 "cells": [
  {
   "cell_type": "markdown",
   "metadata": {},
   "source": [
    "## Q 1"
   ]
  },
  {
   "cell_type": "markdown",
   "metadata": {},
   "source": [
    "There are numerous physical variables that affect a physical coin toss, and they could be used in a simulated model of the toss. However, if I were to model the toss of a fair coin, I would simply rely on random number generation and assign even and odd to heads and tails. This is much simpler than trying to model the physics of the toss and will yield substantially the same results."
   ]
  },
  {
   "cell_type": "markdown",
   "metadata": {},
   "source": [
    "## Q 2"
   ]
  },
  {
   "cell_type": "markdown",
   "metadata": {},
   "source": [
    "\n",
    "According to the article, Netflix feed the following information to its recommendation systems:\n",
    "\n",
    "person's interactions with Netflix's service (such as the viewing history and how that person rated other titles).\n",
    "\n",
    "other members with similar tastes and preferences on Netflix service.\n",
    "\n",
    "information about the titles, such as their genre, categories, actors, release year, etc.\n",
    "\n",
    "the time of day the person watch.\n",
    "\n",
    "the devices the person is watching Netflix on.\n",
    "\n",
    "how long the person watch.\n",
    "\n",
    "Interestingly, they say that they don't feed in the demographic factors. This may be due to eliminate the gender bias in their algorithms.\n",
    "\n",
    "Additional features that might be incorporated would be:\n",
    "\n",
    "localization information: people living in an area may share some tastes.\n",
    "\n",
    "actors/actresses who are featuring in the movie: some people may prefer to watch a movie that involves his/her favorite actors/actresses."
   ]
  },
  {
   "cell_type": "code",
   "execution_count": null,
   "metadata": {},
   "outputs": [],
   "source": []
  }
 ],
 "metadata": {
  "kernelspec": {
   "display_name": "Python 3",
   "language": "python",
   "name": "python3"
  },
  "language_info": {
   "codemirror_mode": {
    "name": "ipython",
    "version": 3
   },
   "file_extension": ".py",
   "mimetype": "text/x-python",
   "name": "python",
   "nbconvert_exporter": "python",
   "pygments_lexer": "ipython3",
   "version": "3.7.1"
  }
 },
 "nbformat": 4,
 "nbformat_minor": 2
}
