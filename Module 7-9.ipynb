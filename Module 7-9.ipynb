{
 "cells": [
  {
   "cell_type": "code",
   "execution_count": 2,
   "metadata": {},
   "outputs": [],
   "source": [
    "import numpy as np\n",
    "import pandas as pd\n",
    "import scipy\n",
    "import matplotlib.pyplot as plt\n",
    "%matplotlib inline"
   ]
  },
  {
   "cell_type": "code",
   "execution_count": 3,
   "metadata": {},
   "outputs": [],
   "source": [
    "pop1 = np.random.binomial(10, 0.2, 10000)\n",
    "pop2 = np.random.binomial(10,0.5, 10000)"
   ]
  },
  {
   "cell_type": "code",
   "execution_count": 4,
   "metadata": {},
   "outputs": [],
   "source": [
    "samp1 = np.random.choice(pop1, 100, replace=True)\n",
    "samp2 = np.random.choice(pop2, 100, replace=True)"
   ]
  },
  {
   "cell_type": "code",
   "execution_count": 5,
   "metadata": {},
   "outputs": [
    {
     "name": "stdout",
     "output_type": "stream",
     "text": [
      "1.73\n",
      "1.0756858277396797\n",
      "4.92\n",
      "1.5791136754521504\n"
     ]
    }
   ],
   "source": [
    "print(samp1.mean())\n",
    "print(samp1.std())\n",
    "print(samp2.mean())\n",
    "print(samp2.std())"
   ]
  },
  {
   "cell_type": "markdown",
   "metadata": {},
   "source": [
    "## Question 1"
   ]
  },
  {
   "cell_type": "code",
   "execution_count": 6,
   "metadata": {},
   "outputs": [],
   "source": [
    "samp1_1 = np.random.choice(pop1, 1000, replace=True)\n",
    "samp2_1 = np.random.choice(pop2, 1000, replace=True)"
   ]
  },
  {
   "cell_type": "code",
   "execution_count": 7,
   "metadata": {},
   "outputs": [
    {
     "name": "stdout",
     "output_type": "stream",
     "text": [
      "1.966\n",
      "1.237272807427691\n",
      "4.991\n",
      "1.628164303748243\n"
     ]
    }
   ],
   "source": [
    "print(samp1_1.mean())\n",
    "print(samp1_1.std())\n",
    "print(samp2_1.mean())\n",
    "print(samp2_1.std())"
   ]
  },
  {
   "cell_type": "code",
   "execution_count": 8,
   "metadata": {},
   "outputs": [
    {
     "data": {
      "image/png": "[encoded data removed]",
      "text/plain": [
       "<Figure size 432x288 with 1 Axes>"
      ]
     },
     "metadata": {
      "needs_background": "light"
     },
     "output_type": "display_data"
    }
   ],
   "source": [
    "plt.hist(samp1_1, alpha=0.5, label='Sample 1') \n",
    "plt.hist(samp2_1, alpha=0.5, label='Sample 2') \n",
    "plt.legend(loc='upper right') \n",
    "plt.show()"
   ]
  },
  {
   "cell_type": "code",
   "execution_count": 9,
   "metadata": {},
   "outputs": [],
   "source": [
    "samp1_2 = np.random.choice(pop1, 20, replace=True)\n",
    "samp2_2 = np.random.choice(pop2, 20, replace=True)"
   ]
  },
  {
   "cell_type": "code",
   "execution_count": 10,
   "metadata": {},
   "outputs": [
    {
     "name": "stdout",
     "output_type": "stream",
     "text": [
      "1.65\n",
      "1.107925990308017\n",
      "4.4\n",
      "1.42828568570857\n"
     ]
    }
   ],
   "source": [
    "print(samp1_2.mean())\n",
    "print(samp1_2.std())\n",
    "print(samp2_2.mean())\n",
    "print(samp2_2.std())"
   ]
  },
  {
   "cell_type": "code",
   "execution_count": 11,
   "metadata": {},
   "outputs": [
    {
     "data": {
      "image/png": "[encoded data removed]",
      "text/plain": [
       "<Figure size 432x288 with 1 Axes>"
      ]
     },
     "metadata": {
      "needs_background": "light"
     },
     "output_type": "display_data"
    }
   ],
   "source": [
    "plt.hist(samp1_2, alpha=0.5, label='Sample 1') \n",
    "plt.hist(samp2_2, alpha=0.5, label='Sample 2') \n",
    "plt.legend(loc='upper right') \n",
    "plt.show()"
   ]
  },
  {
   "cell_type": "markdown",
   "metadata": {},
   "source": [
    "The mean and standard deviation changed for both samples, both when the sample size was increased to 1000 and when the sample size was decreased to 20. The change from a sample size of 100 to 20 was more drastic than going from 100 to 1000. This is because 100 and 1000 are both probably large enough samples to be representative of the population. With a sample size of only 20, however, random chance plays a much larger role and the representative statistics for this sample drift further from those of the original population.\n"
   ]
  },
  {
   "cell_type": "markdown",
   "metadata": {},
   "source": [
    "## Question 2\n"
   ]
  },
  {
   "cell_type": "code",
   "execution_count": 12,
   "metadata": {},
   "outputs": [],
   "source": [
    "pop1_2 = np.random.binomial(10, 0.3, 10000)\n",
    "pop2_2 = np.random.binomial(10, .5, 10000)"
   ]
  },
  {
   "cell_type": "code",
   "execution_count": 13,
   "metadata": {},
   "outputs": [],
   "source": [
    "samp1_2_2 = np.random.choice(pop1_2, 100, replace=True)\n",
    "samp2_2_2 = np.random.choice(pop2_2, 100, replace=True)"
   ]
  },
  {
   "cell_type": "code",
   "execution_count": 14,
   "metadata": {},
   "outputs": [
    {
     "name": "stdout",
     "output_type": "stream",
     "text": [
      "Ttest_indResult(statistic=9.167498947194531, pvalue=6.630210570021263e-17)\n"
     ]
    }
   ],
   "source": [
    "from scipy.stats import ttest_ind\n",
    "print(ttest_ind(samp2_2_2, samp1_2_2, equal_var=False))"
   ]
  },
  {
   "cell_type": "code",
   "execution_count": 15,
   "metadata": {},
   "outputs": [
    {
     "name": "stdout",
     "output_type": "stream",
     "text": [
      "Ttest_indResult(statistic=4.271623009799933, pvalue=3.0121083376985622e-05)\n"
     ]
    }
   ],
   "source": [
    "pop1_2 = np.random.binomial(10, 0.4, 10000)\n",
    "samp1_2_2 = np.random.choice(pop1_2, 100, replace=True)\n",
    "samp2_2_2 = np.random.choice(pop2_2, 100, replace=True)\n",
    "from scipy.stats import ttest_ind\n",
    "print(ttest_ind(samp2_2_2, samp1_2_2, equal_var=False))"
   ]
  },
  {
   "cell_type": "markdown",
   "metadata": {},
   "source": [
    "Both the T test and P value changed, with the T test getting smaller and the P value getting larger."
   ]
  },
  {
   "cell_type": "markdown",
   "metadata": {},
   "source": [
    "## Why does the order of samples affect T test outcome?"
   ]
  },
  {
   "cell_type": "markdown",
   "metadata": {},
   "source": [
    "## Question 3"
   ]
  },
  {
   "cell_type": "code",
   "execution_count": 16,
   "metadata": {},
   "outputs": [],
   "source": [
    "pop1 = np.random.normal(50, 7, 10000)\n",
    "pop2 = np.random.normal(125, 25, 10000)"
   ]
  },
  {
   "cell_type": "code",
   "execution_count": 17,
   "metadata": {},
   "outputs": [],
   "source": [
    "samp1 = np.random.choice(pop1, 100, replace=True)\n",
    "samp2 = np.random.choice(pop2, 100, replace=True)"
   ]
  },
  {
   "cell_type": "code",
   "execution_count": 18,
   "metadata": {},
   "outputs": [
    {
     "name": "stdout",
     "output_type": "stream",
     "text": [
      "50.63126619395643\n",
      "6.2201493797818665\n",
      "127.70763971611937\n",
      "22.27748024709326\n"
     ]
    }
   ],
   "source": [
    "print(samp1.mean())\n",
    "print(samp1.std())\n",
    "print(samp2.mean())\n",
    "print(samp2.std())"
   ]
  },
  {
   "cell_type": "markdown",
   "metadata": {},
   "source": [
    "The means and standard deviations are different from the population values, but still very close and representative."
   ]
  }
 ],
 "metadata": {
  "kernelspec": {
   "display_name": "Python 3",
   "language": "python",
   "name": "python3"
  },
  "language_info": {
   "codemirror_mode": {
    "name": "ipython",
    "version": 3
   },
   "file_extension": ".py",
   "mimetype": "text/x-python",
   "name": "python",
   "nbconvert_exporter": "python",
   "pygments_lexer": "ipython3",
   "version": "3.7.1"
  }
 },
 "nbformat": 4,
 "nbformat_minor": 2
}
