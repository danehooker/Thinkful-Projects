{
 "cells": [
  {
   "cell_type": "code",
   "execution_count": 32,
   "metadata": {},
   "outputs": [],
   "source": [
    "\n",
    "import pandas as pd\n",
    "import numpy as np\n",
    "from sqlalchemy import create_engine\n",
    "import warnings\n",
    "\n",
    "warnings.filterwarnings('ignore')"
   ]
  },
  {
   "cell_type": "code",
   "execution_count": 33,
   "metadata": {},
   "outputs": [],
   "source": [
    "postgres_user = 'dsbc_student'\n",
    "postgres_pw = '7*.8G9QH21'\n",
    "postgres_host = '142.93.121.174'\n",
    "postgres_port = '5432'\n",
    "postgres_db = 'useducation'\n",
    "\n",
    "engine = create_engine('postgresql://{}:{}@{}:{}/{}'.format(\n",
    "    postgres_user, postgres_pw, postgres_host, postgres_port, postgres_db))\n",
    "\n",
    "useducation_df = pd.read_sql_query('select * from useducation',con=engine)\n",
    "\n",
    "# no need for an open connection, \n",
    "# as we're only doing a single query\n",
    "engine.dispose()\n"
   ]
  },
  {
   "cell_type": "code",
   "execution_count": 34,
   "metadata": {},
   "outputs": [],
   "source": [
    "useducation_df2 = useducation_df\n",
    "useducation_df3 = useducation_df\n",
    "useducation_df4 = useducation_df"
   ]
  },
  {
   "cell_type": "markdown",
   "metadata": {},
   "source": [
    "## Q 1"
   ]
  },
  {
   "cell_type": "code",
   "execution_count": 35,
   "metadata": {},
   "outputs": [
    {
     "name": "stdout",
     "output_type": "stream",
     "text": [
      "<class 'pandas.core.frame.DataFrame'>\n",
      "RangeIndex: 1492 entries, 0 to 1491\n",
      "Data columns (total 25 columns):\n",
      "PRIMARY_KEY                     1492 non-null object\n",
      "STATE                           1492 non-null object\n",
      "YEAR                            1492 non-null int64\n",
      "ENROLL                          1229 non-null float64\n",
      "TOTAL_REVENUE                   1280 non-null float64\n",
      "FEDERAL_REVENUE                 1280 non-null float64\n",
      "STATE_REVENUE                   1280 non-null float64\n",
      "LOCAL_REVENUE                   1280 non-null float64\n",
      "TOTAL_EXPENDITURE               1280 non-null float64\n",
      "INSTRUCTION_EXPENDITURE         1280 non-null float64\n",
      "SUPPORT_SERVICES_EXPENDITURE    1280 non-null float64\n",
      "OTHER_EXPENDITURE               1229 non-null float64\n",
      "CAPITAL_OUTLAY_EXPENDITURE      1280 non-null float64\n",
      "GRADES_PK_G                     1319 non-null float64\n",
      "GRADES_KG_G                     1360 non-null float64\n",
      "GRADES_4_G                      1361 non-null float64\n",
      "GRADES_8_G                      1361 non-null float64\n",
      "GRADES_12_G                     1361 non-null float64\n",
      "GRADES_1_8_G                    1361 non-null float64\n",
      "GRADES_9_12_G                   1361 non-null float64\n",
      "GRADES_ALL_G                    1319 non-null float64\n",
      "AVG_MATH_4_SCORE                536 non-null float64\n",
      "AVG_MATH_8_SCORE                532 non-null float64\n",
      "AVG_READING_4_SCORE             533 non-null float64\n",
      "AVG_READING_8_SCORE             498 non-null float64\n",
      "dtypes: float64(22), int64(1), object(2)\n",
      "memory usage: 291.5+ KB\n"
     ]
    }
   ],
   "source": [
    "useducation_df.info()"
   ]
  },
  {
   "cell_type": "markdown",
   "metadata": {},
   "source": [
    "Data types are float, integer, and object."
   ]
  },
  {
   "cell_type": "markdown",
   "metadata": {},
   "source": [
    "## Q 2"
   ]
  },
  {
   "cell_type": "code",
   "execution_count": 36,
   "metadata": {},
   "outputs": [
    {
     "data": {
      "text/plain": [
       "PRIMARY_KEY                      0.000000\n",
       "STATE                            0.000000\n",
       "YEAR                             0.000000\n",
       "ENROLL                          17.627346\n",
       "TOTAL_REVENUE                   14.209115\n",
       "FEDERAL_REVENUE                 14.209115\n",
       "STATE_REVENUE                   14.209115\n",
       "LOCAL_REVENUE                   14.209115\n",
       "TOTAL_EXPENDITURE               14.209115\n",
       "INSTRUCTION_EXPENDITURE         14.209115\n",
       "SUPPORT_SERVICES_EXPENDITURE    14.209115\n",
       "OTHER_EXPENDITURE               17.627346\n",
       "CAPITAL_OUTLAY_EXPENDITURE      14.209115\n",
       "GRADES_PK_G                     11.595174\n",
       "GRADES_KG_G                      8.847185\n",
       "GRADES_4_G                       8.780161\n",
       "GRADES_8_G                       8.780161\n",
       "GRADES_12_G                      8.780161\n",
       "GRADES_1_8_G                     8.780161\n",
       "GRADES_9_12_G                    8.780161\n",
       "GRADES_ALL_G                    11.595174\n",
       "AVG_MATH_4_SCORE                64.075067\n",
       "AVG_MATH_8_SCORE                64.343164\n",
       "AVG_READING_4_SCORE             64.276139\n",
       "AVG_READING_8_SCORE             66.621984\n",
       "dtype: float64"
      ]
     },
     "execution_count": 36,
     "metadata": {},
     "output_type": "execute_result"
    }
   ],
   "source": [
    "useducation_df2.isnull().sum()*100/useducation_df2.isnull().count()"
   ]
  },
  {
   "cell_type": "code",
   "execution_count": 37,
   "metadata": {},
   "outputs": [],
   "source": [
    "for i in range(0, len(useducation_df2.TOTAL_REVENUE)):\n",
    "    if pd.isnull(useducation_df2.TOTAL_REVENUE[i]):\n",
    "        useducation_df2.TOTAL_REVENUE[i] = useducation_df2.TOTAL_REVENUE.mean()"
   ]
  },
  {
   "cell_type": "code",
   "execution_count": 38,
   "metadata": {},
   "outputs": [
    {
     "data": {
      "text/plain": [
       "PRIMARY_KEY                      0.000000\n",
       "STATE                            0.000000\n",
       "YEAR                             0.000000\n",
       "ENROLL                          17.627346\n",
       "TOTAL_REVENUE                    0.000000\n",
       "FEDERAL_REVENUE                 14.209115\n",
       "STATE_REVENUE                   14.209115\n",
       "LOCAL_REVENUE                   14.209115\n",
       "TOTAL_EXPENDITURE               14.209115\n",
       "INSTRUCTION_EXPENDITURE         14.209115\n",
       "SUPPORT_SERVICES_EXPENDITURE    14.209115\n",
       "OTHER_EXPENDITURE               17.627346\n",
       "CAPITAL_OUTLAY_EXPENDITURE      14.209115\n",
       "GRADES_PK_G                     11.595174\n",
       "GRADES_KG_G                      8.847185\n",
       "GRADES_4_G                       8.780161\n",
       "GRADES_8_G                       8.780161\n",
       "GRADES_12_G                      8.780161\n",
       "GRADES_1_8_G                     8.780161\n",
       "GRADES_9_12_G                    8.780161\n",
       "GRADES_ALL_G                    11.595174\n",
       "AVG_MATH_4_SCORE                64.075067\n",
       "AVG_MATH_8_SCORE                64.343164\n",
       "AVG_READING_4_SCORE             64.276139\n",
       "AVG_READING_8_SCORE             66.621984\n",
       "dtype: float64"
      ]
     },
     "execution_count": 38,
     "metadata": {},
     "output_type": "execute_result"
    }
   ],
   "source": [
    "useducation_df2.isnull().sum()*100/useducation_df2.isnull().count()"
   ]
  },
  {
   "cell_type": "code",
   "execution_count": 39,
   "metadata": {},
   "outputs": [],
   "source": [
    "def replace_w_avg(DFCOL):\n",
    "    for i in range(0, len(DFCOL)):\n",
    "        if pd.isnull(DFCOL[i]):\n",
    "            DFCOL[i] = DFCOL.mean()"
   ]
  },
  {
   "cell_type": "code",
   "execution_count": 40,
   "metadata": {},
   "outputs": [],
   "source": [
    "replace_w_avg(useducation_df2.FEDERAL_REVENUE)"
   ]
  },
  {
   "cell_type": "code",
   "execution_count": 41,
   "metadata": {},
   "outputs": [
    {
     "data": {
      "text/plain": [
       "PRIMARY_KEY                      0.000000\n",
       "STATE                            0.000000\n",
       "YEAR                             0.000000\n",
       "ENROLL                          17.627346\n",
       "TOTAL_REVENUE                    0.000000\n",
       "FEDERAL_REVENUE                  0.000000\n",
       "STATE_REVENUE                   14.209115\n",
       "LOCAL_REVENUE                   14.209115\n",
       "TOTAL_EXPENDITURE               14.209115\n",
       "INSTRUCTION_EXPENDITURE         14.209115\n",
       "SUPPORT_SERVICES_EXPENDITURE    14.209115\n",
       "OTHER_EXPENDITURE               17.627346\n",
       "CAPITAL_OUTLAY_EXPENDITURE      14.209115\n",
       "GRADES_PK_G                     11.595174\n",
       "GRADES_KG_G                      8.847185\n",
       "GRADES_4_G                       8.780161\n",
       "GRADES_8_G                       8.780161\n",
       "GRADES_12_G                      8.780161\n",
       "GRADES_1_8_G                     8.780161\n",
       "GRADES_9_12_G                    8.780161\n",
       "GRADES_ALL_G                    11.595174\n",
       "AVG_MATH_4_SCORE                64.075067\n",
       "AVG_MATH_8_SCORE                64.343164\n",
       "AVG_READING_4_SCORE             64.276139\n",
       "AVG_READING_8_SCORE             66.621984\n",
       "dtype: float64"
      ]
     },
     "execution_count": 41,
     "metadata": {},
     "output_type": "execute_result"
    }
   ],
   "source": [
    "useducation_df2.isnull().sum()*100/useducation_df2.isnull().count()"
   ]
  },
  {
   "cell_type": "code",
   "execution_count": 42,
   "metadata": {},
   "outputs": [],
   "source": [
    "replace_w_avg(useducation_df2.STATE_REVENUE)\n",
    "replace_w_avg(useducation_df2.LOCAL_REVENUE)\n",
    "replace_w_avg(useducation_df2.TOTAL_EXPENDITURE)\n",
    "replace_w_avg(useducation_df2.INSTRUCTION_EXPENDITURE)\n",
    "replace_w_avg(useducation_df2.SUPPORT_SERVICES_EXPENDITURE)\n",
    "replace_w_avg(useducation_df2.OTHER_EXPENDITURE)\n",
    "replace_w_avg(useducation_df2.CAPITAL_OUTLAY_EXPENDITURE)\n",
    "replace_w_avg(useducation_df2.AVG_MATH_4_SCORE)\n",
    "replace_w_avg(useducation_df2.AVG_MATH_8_SCORE)\n",
    "replace_w_avg(useducation_df2.AVG_READING_4_SCORE)\n",
    "replace_w_avg(useducation_df2.AVG_READING_8_SCORE)"
   ]
  },
  {
   "cell_type": "code",
   "execution_count": 43,
   "metadata": {},
   "outputs": [
    {
     "data": {
      "text/plain": [
       "PRIMARY_KEY                      0.000000\n",
       "STATE                            0.000000\n",
       "YEAR                             0.000000\n",
       "ENROLL                          17.627346\n",
       "TOTAL_REVENUE                    0.000000\n",
       "FEDERAL_REVENUE                  0.000000\n",
       "STATE_REVENUE                    0.000000\n",
       "LOCAL_REVENUE                    0.000000\n",
       "TOTAL_EXPENDITURE                0.000000\n",
       "INSTRUCTION_EXPENDITURE          0.000000\n",
       "SUPPORT_SERVICES_EXPENDITURE     0.000000\n",
       "OTHER_EXPENDITURE                0.000000\n",
       "CAPITAL_OUTLAY_EXPENDITURE       0.000000\n",
       "GRADES_PK_G                     11.595174\n",
       "GRADES_KG_G                      8.847185\n",
       "GRADES_4_G                       8.780161\n",
       "GRADES_8_G                       8.780161\n",
       "GRADES_12_G                      8.780161\n",
       "GRADES_1_8_G                     8.780161\n",
       "GRADES_9_12_G                    8.780161\n",
       "GRADES_ALL_G                    11.595174\n",
       "AVG_MATH_4_SCORE                 0.000000\n",
       "AVG_MATH_8_SCORE                 0.000000\n",
       "AVG_READING_4_SCORE              0.000000\n",
       "AVG_READING_8_SCORE              0.000000\n",
       "dtype: float64"
      ]
     },
     "execution_count": 43,
     "metadata": {},
     "output_type": "execute_result"
    }
   ],
   "source": [
    "useducation_df2.isnull().sum()*100/useducation_df2.isnull().count()"
   ]
  },
  {
   "cell_type": "markdown",
   "metadata": {},
   "source": [
    "## Q 3"
   ]
  },
  {
   "cell_type": "code",
   "execution_count": 52,
   "metadata": {},
   "outputs": [],
   "source": [
    "fill_list = [\"ENROLL\", \"TOTAL_REVENUE\", \"FEDERAL_REVENUE\", \n",
    "             \"STATE_REVENUE\", \"LOCAL_REVENUE\", \"TOTAL_EXPENDITURE\", \n",
    "             \"INSTRUCTION_EXPENDITURE\", \"SUPPORT_SERVICES_EXPENDITURE\",\n",
    "             \"OTHER_EXPENDITURE\", \"CAPITAL_OUTLAY_EXPENDITURE\", \"GRADES_PK_G\", \n",
    "             \"GRADES_KG_G\", \"GRADES_4_G\", \"GRADES_8_G\", \"GRADES_12_G\", \"GRADES_1_8_G\", \n",
    "             \"GRADES_9_12_G\", \"GRADES_ALL_G\"]"
   ]
  },
  {
   "cell_type": "code",
   "execution_count": 54,
   "metadata": {},
   "outputs": [],
   "source": [
    "\n",
    "\n",
    "years = useducation_df3[\"YEAR\"].unique()\n",
    "\n",
    "for col in fill_list:\n",
    "    for year in years:\n",
    "        useducation_df3.loc[useducation_df3[\"YEAR\"] == year, col].fillna(\n",
    "            useducation_df3[useducation_df3[\"YEAR\"] == year][col].mean(), inplace=True)"
   ]
  },
  {
   "cell_type": "markdown",
   "metadata": {},
   "source": [
    "## Q 4"
   ]
  },
  {
   "cell_type": "code",
   "execution_count": 55,
   "metadata": {},
   "outputs": [],
   "source": [
    "for col in fill_list:\n",
    "    useducation_df4.loc[:, col].interpolate(inplace=True)"
   ]
  },
  {
   "cell_type": "markdown",
   "metadata": {},
   "source": [
    "## Q 5"
   ]
  },
  {
   "cell_type": "code",
   "execution_count": 56,
   "metadata": {},
   "outputs": [
    {
     "name": "stdout",
     "output_type": "stream",
     "text": [
      "Statistics for columns: ENROLL\n",
      "             ENROLL        ENROLL        ENROLL        ENROLL\n",
      "count  1.456000e+03  1.456000e+03  1.456000e+03  1.456000e+03\n",
      "mean   1.005984e+06  1.005984e+06  1.005984e+06  1.005984e+06\n",
      "std    1.009158e+06  1.009158e+06  1.009158e+06  1.009158e+06\n",
      "min    4.386600e+04  4.386600e+04  4.386600e+04  4.386600e+04\n",
      "25%    2.973995e+05  2.973995e+05  2.973995e+05  2.973995e+05\n",
      "50%    7.540845e+05  7.540845e+05  7.540845e+05  7.540845e+05\n",
      "75%    1.595024e+06  1.595024e+06  1.595024e+06  1.595024e+06\n",
      "max    6.307022e+06  6.307022e+06  6.307022e+06  6.307022e+06\n",
      "Statistics for columns: TOTAL_REVENUE\n",
      "       TOTAL_REVENUE  TOTAL_REVENUE  TOTAL_REVENUE  TOTAL_REVENUE\n",
      "count   1.492000e+03   1.492000e+03   1.492000e+03   1.492000e+03\n",
      "mean    9.092082e+06   9.092082e+06   9.092082e+06   9.092082e+06\n",
      "std     1.087818e+07   1.087818e+07   1.087818e+07   1.087818e+07\n",
      "min     4.656500e+05   4.656500e+05   4.656500e+05   4.656500e+05\n",
      "25%     2.546261e+06   2.546261e+06   2.546261e+06   2.546261e+06\n",
      "50%     6.359310e+06   6.359310e+06   6.359310e+06   6.359310e+06\n",
      "75%     9.276958e+06   9.276958e+06   9.276958e+06   9.276958e+06\n",
      "max     8.921726e+07   8.921726e+07   8.921726e+07   8.921726e+07\n",
      "Statistics for columns: FEDERAL_REVENUE\n",
      "       FEDERAL_REVENUE  FEDERAL_REVENUE  FEDERAL_REVENUE  FEDERAL_REVENUE\n",
      "count     1.492000e+03     1.492000e+03     1.492000e+03     1.492000e+03\n",
      "mean      7.663723e+05     7.663723e+05     7.663723e+05     7.663723e+05\n",
      "std       1.060702e+06     1.060702e+06     1.060702e+06     1.060702e+06\n",
      "min       3.102000e+04     3.102000e+04     3.102000e+04     3.102000e+04\n",
      "25%       2.170200e+05     2.170200e+05     2.170200e+05     2.170200e+05\n",
      "50%       5.167410e+05     5.167410e+05     5.167410e+05     5.167410e+05\n",
      "75%       7.663723e+05     7.663723e+05     7.663723e+05     7.663723e+05\n",
      "max       9.990221e+06     9.990221e+06     9.990221e+06     9.990221e+06\n",
      "Statistics for columns: STATE_REVENUE\n",
      "       STATE_REVENUE  STATE_REVENUE  STATE_REVENUE  STATE_REVENUE\n",
      "count   1.492000e+03   1.492000e+03   1.492000e+03   1.492000e+03\n",
      "mean    4.216553e+06   4.216553e+06   4.216553e+06   4.216553e+06\n",
      "std     5.133895e+06   5.133895e+06   5.133895e+06   5.133895e+06\n",
      "min     0.000000e+00   0.000000e+00   0.000000e+00   0.000000e+00\n",
      "25%     1.356434e+06   1.356434e+06   1.356434e+06   1.356434e+06\n",
      "50%     3.127639e+06   3.127639e+06   3.127639e+06   3.127639e+06\n",
      "75%     4.269811e+06   4.269811e+06   4.269811e+06   4.269811e+06\n",
      "max     5.090457e+07   5.090457e+07   5.090457e+07   5.090457e+07\n",
      "Statistics for columns: LOCAL_REVENUE\n",
      "       LOCAL_REVENUE  LOCAL_REVENUE  LOCAL_REVENUE  LOCAL_REVENUE\n",
      "count   1.492000e+03   1.492000e+03   1.492000e+03   1.492000e+03\n",
      "mean    4.109157e+06   4.109157e+06   4.109157e+06   4.109157e+06\n",
      "std     5.078230e+06   5.078230e+06   5.078230e+06   5.078230e+06\n",
      "min     2.209300e+04   2.209300e+04   2.209300e+04   2.209300e+04\n",
      "25%     9.447962e+05   9.447962e+05   9.447962e+05   9.447962e+05\n",
      "50%     2.697257e+06   2.697257e+06   2.697257e+06   2.697257e+06\n",
      "75%     4.109157e+06   4.109157e+06   4.109157e+06   4.109157e+06\n",
      "max     3.610526e+07   3.610526e+07   3.610526e+07   3.610526e+07\n",
      "Statistics for columns: TOTAL_EXPENDITURE\n",
      "       TOTAL_EXPENDITURE  TOTAL_EXPENDITURE  TOTAL_EXPENDITURE  \\\n",
      "count       1.492000e+03       1.492000e+03       1.492000e+03   \n",
      "mean        9.196681e+06       9.196681e+06       9.196681e+06   \n",
      "std         1.109393e+07       1.109393e+07       1.109393e+07   \n",
      "min         4.816650e+05       4.816650e+05       4.816650e+05   \n",
      "25%         2.523968e+06       2.523968e+06       2.523968e+06   \n",
      "50%         6.520224e+06       6.520224e+06       6.520224e+06   \n",
      "75%         9.434922e+06       9.434922e+06       9.434922e+06   \n",
      "max         8.532013e+07       8.532013e+07       8.532013e+07   \n",
      "\n",
      "       TOTAL_EXPENDITURE  \n",
      "count       1.492000e+03  \n",
      "mean        9.196681e+06  \n",
      "std         1.109393e+07  \n",
      "min         4.816650e+05  \n",
      "25%         2.523968e+06  \n",
      "50%         6.520224e+06  \n",
      "75%         9.434922e+06  \n",
      "max         8.532013e+07  \n",
      "Statistics for columns: INSTRUCTION_EXPENDITURE\n",
      "       INSTRUCTION_EXPENDITURE  INSTRUCTION_EXPENDITURE  \\\n",
      "count             1.492000e+03             1.492000e+03   \n",
      "mean              4.762966e+06             4.762966e+06   \n",
      "std               5.828468e+06             5.828468e+06   \n",
      "min               2.655490e+05             2.655490e+05   \n",
      "25%               1.343611e+06             1.343611e+06   \n",
      "50%               3.358142e+06             3.358142e+06   \n",
      "75%               4.938820e+06             4.938820e+06   \n",
      "max               4.396452e+07             4.396452e+07   \n",
      "\n",
      "       INSTRUCTION_EXPENDITURE  INSTRUCTION_EXPENDITURE  \n",
      "count             1.492000e+03             1.492000e+03  \n",
      "mean              4.762966e+06             4.762966e+06  \n",
      "std               5.828468e+06             5.828468e+06  \n",
      "min               2.655490e+05             2.655490e+05  \n",
      "25%               1.343611e+06             1.343611e+06  \n",
      "50%               3.358142e+06             3.358142e+06  \n",
      "75%               4.938820e+06             4.938820e+06  \n",
      "max               4.396452e+07             4.396452e+07  \n",
      "Statistics for columns: SUPPORT_SERVICES_EXPENDITURE\n",
      "       SUPPORT_SERVICES_EXPENDITURE  SUPPORT_SERVICES_EXPENDITURE  \\\n",
      "count                  1.492000e+03                  1.492000e+03   \n",
      "mean                   2.680331e+06                  2.680331e+06   \n",
      "std                    3.105812e+06                  3.105812e+06   \n",
      "min                    1.399630e+05                  1.399630e+05   \n",
      "25%                    7.673688e+05                  7.673688e+05   \n",
      "50%                    1.913844e+06                  1.913844e+06   \n",
      "75%                    2.795888e+06                  2.795888e+06   \n",
      "max                    2.605802e+07                  2.605802e+07   \n",
      "\n",
      "       SUPPORT_SERVICES_EXPENDITURE  SUPPORT_SERVICES_EXPENDITURE  \n",
      "count                  1.492000e+03                  1.492000e+03  \n",
      "mean                   2.680331e+06                  2.680331e+06  \n",
      "std                    3.105812e+06                  3.105812e+06  \n",
      "min                    1.399630e+05                  1.399630e+05  \n",
      "25%                    7.673688e+05                  7.673688e+05  \n",
      "50%                    1.913844e+06                  1.913844e+06  \n",
      "75%                    2.795888e+06                  2.795888e+06  \n",
      "max                    2.605802e+07                  2.605802e+07  \n",
      "Statistics for columns: OTHER_EXPENDITURE\n",
      "       OTHER_EXPENDITURE  OTHER_EXPENDITURE  OTHER_EXPENDITURE  \\\n",
      "count       1.492000e+03       1.492000e+03       1.492000e+03   \n",
      "mean        4.292046e+05       4.292046e+05       4.292046e+05   \n",
      "std         4.846832e+05       4.846832e+05       4.846832e+05   \n",
      "min         1.154100e+04       1.154100e+04       1.154100e+04   \n",
      "25%         1.354282e+05       1.354282e+05       1.354282e+05   \n",
      "50%         3.672335e+05       3.672335e+05       3.672335e+05   \n",
      "75%         4.568915e+05       4.568915e+05       4.568915e+05   \n",
      "max         3.995951e+06       3.995951e+06       3.995951e+06   \n",
      "\n",
      "       OTHER_EXPENDITURE  \n",
      "count       1.492000e+03  \n",
      "mean        4.292046e+05  \n",
      "std         4.846832e+05  \n",
      "min         1.154100e+04  \n",
      "25%         1.354282e+05  \n",
      "50%         3.672335e+05  \n",
      "75%         4.568915e+05  \n",
      "max         3.995951e+06  \n",
      "Statistics for columns: CAPITAL_OUTLAY_EXPENDITURE\n",
      "       CAPITAL_OUTLAY_EXPENDITURE  CAPITAL_OUTLAY_EXPENDITURE  \\\n",
      "count                1.492000e+03                1.492000e+03   \n",
      "mean                 9.027693e+05                9.027693e+05   \n",
      "std                  1.229564e+06                1.229564e+06   \n",
      "min                  1.270800e+04                1.270800e+04   \n",
      "25%                  2.163398e+05                2.163398e+05   \n",
      "50%                  6.482175e+05                6.482175e+05   \n",
      "75%                  9.027693e+05                9.027693e+05   \n",
      "max                  1.022366e+07                1.022366e+07   \n",
      "\n",
      "       CAPITAL_OUTLAY_EXPENDITURE  CAPITAL_OUTLAY_EXPENDITURE  \n",
      "count                1.492000e+03                1.492000e+03  \n",
      "mean                 9.027693e+05                9.027693e+05  \n",
      "std                  1.229564e+06                1.229564e+06  \n",
      "min                  1.270800e+04                1.270800e+04  \n",
      "25%                  2.163398e+05                2.163398e+05  \n",
      "50%                  6.482175e+05                6.482175e+05  \n",
      "75%                  9.027693e+05                9.027693e+05  \n",
      "max                  1.022366e+07                1.022366e+07  \n",
      "Statistics for columns: GRADES_PK_G\n",
      "         GRADES_PK_G    GRADES_PK_G    GRADES_PK_G    GRADES_PK_G\n",
      "count    1492.000000    1492.000000    1492.000000    1492.000000\n",
      "mean    15926.059316   15926.059316   15926.059316   15926.059316\n",
      "std     28669.479212   28669.479212   28669.479212   28669.479212\n",
      "min         0.000000       0.000000       0.000000       0.000000\n",
      "25%      1544.000000    1544.000000    1544.000000    1544.000000\n",
      "50%      5910.500000    5910.500000    5910.500000    5910.500000\n",
      "75%     19561.000000   19561.000000   19561.000000   19561.000000\n",
      "max    250911.000000  250911.000000  250911.000000  250911.000000\n",
      "Statistics for columns: GRADES_KG_G\n",
      "         GRADES_KG_G    GRADES_KG_G    GRADES_KG_G    GRADES_KG_G\n",
      "count    1492.000000    1492.000000    1492.000000    1492.000000\n",
      "mean    59021.465818   59021.465818   59021.465818   59021.465818\n",
      "std     78271.025323   78271.025323   78271.025323   78271.025323\n",
      "min       544.000000     544.000000     544.000000     544.000000\n",
      "25%      9926.750000    9926.750000    9926.750000    9926.750000\n",
      "50%     38507.000000   38507.000000   38507.000000   38507.000000\n",
      "75%     70748.750000   70748.750000   70748.750000   70748.750000\n",
      "max    530531.000000  530531.000000  530531.000000  530531.000000\n",
      "Statistics for columns: GRADES_4_G\n",
      "          GRADES_4_G     GRADES_4_G     GRADES_4_G     GRADES_4_G\n",
      "count    1492.000000    1492.000000    1492.000000    1492.000000\n",
      "mean    59797.646113   59797.646113   59797.646113   59797.646113\n",
      "std     78406.899202   78406.899202   78406.899202   78406.899202\n",
      "min       633.000000     633.000000     633.000000     633.000000\n",
      "25%     10117.250000   10117.250000   10117.250000   10117.250000\n",
      "50%     38280.500000   38280.500000   38280.500000   38280.500000\n",
      "75%     72310.250000   72310.250000   72310.250000   72310.250000\n",
      "max    493415.000000  493415.000000  493415.000000  493415.000000\n",
      "Statistics for columns: GRADES_8_G\n",
      "          GRADES_8_G     GRADES_8_G     GRADES_8_G     GRADES_8_G\n",
      "count    1492.000000    1492.000000    1492.000000    1492.000000\n",
      "mean    59511.380027   59511.380027   59511.380027   59511.380027\n",
      "std     77123.573668   77123.573668   77123.573668   77123.573668\n",
      "min       437.000000     437.000000     437.000000     437.000000\n",
      "25%     10252.000000   10252.000000   10252.000000   10252.000000\n",
      "50%     38114.500000   38114.500000   38114.500000   38114.500000\n",
      "75%     72598.250000   72598.250000   72598.250000   72598.250000\n",
      "max    500143.000000  500143.000000  500143.000000  500143.000000\n",
      "Statistics for columns: GRADES_12_G\n",
      "         GRADES_12_G    GRADES_12_G    GRADES_12_G    GRADES_12_G\n",
      "count    1492.000000    1492.000000    1492.000000    1492.000000\n",
      "mean    50207.239276   50207.239276   50207.239276   50207.239276\n",
      "std     66309.867155   66309.867155   66309.867155   66309.867155\n",
      "min       311.000000     311.000000     311.000000     311.000000\n",
      "25%      8951.000000    8951.000000    8951.000000    8951.000000\n",
      "50%     33279.000000   33279.000000   33279.000000   33279.000000\n",
      "75%     64920.500000   64920.500000   64920.500000   64920.500000\n",
      "max    498403.000000  498403.000000  498403.000000  498403.000000\n",
      "Statistics for columns: GRADES_1_8_G\n",
      "       GRADES_1_8_G  GRADES_1_8_G  GRADES_1_8_G  GRADES_1_8_G\n",
      "count  1.492000e+03  1.492000e+03  1.492000e+03  1.492000e+03\n",
      "mean   4.810102e+05  4.810102e+05  4.810102e+05  4.810102e+05\n",
      "std    6.286622e+05  6.286622e+05  6.286622e+05  6.286622e+05\n",
      "min    4.878000e+03  4.878000e+03  4.878000e+03  4.878000e+03\n",
      "25%    8.127325e+04  8.127325e+04  8.127325e+04  8.127325e+04\n",
      "50%    3.097340e+05  3.097340e+05  3.097340e+05  3.097340e+05\n",
      "75%    5.783400e+05  5.783400e+05  5.783400e+05  5.783400e+05\n",
      "max    3.929869e+06  3.929869e+06  3.929869e+06  3.929869e+06\n",
      "Statistics for columns: GRADES_9_12_G\n"
     ]
    },
    {
     "name": "stdout",
     "output_type": "stream",
     "text": [
      "       GRADES_9_12_G  GRADES_9_12_G  GRADES_9_12_G  GRADES_9_12_G\n",
      "count   1.492000e+03   1.492000e+03   1.492000e+03   1.492000e+03\n",
      "mean    2.286678e+05   2.286678e+05   2.286678e+05   2.286678e+05\n",
      "std     3.005815e+05   3.005815e+05   3.005815e+05   3.005815e+05\n",
      "min     1.808000e+03   1.808000e+03   1.808000e+03   1.808000e+03\n",
      "25%     3.950675e+04   3.950675e+04   3.950675e+04   3.950675e+04\n",
      "50%     1.472355e+05   1.472355e+05   1.472355e+05   1.472355e+05\n",
      "75%     2.843505e+05   2.843505e+05   2.843505e+05   2.843505e+05\n",
      "max     2.013687e+06   2.013687e+06   2.013687e+06   2.013687e+06\n",
      "Statistics for columns: GRADES_ALL_G\n",
      "       GRADES_ALL_G  GRADES_ALL_G  GRADES_ALL_G  GRADES_ALL_G\n",
      "count  1.492000e+03  1.492000e+03  1.492000e+03  1.492000e+03\n",
      "mean   7.478782e+05  7.478782e+05  7.478782e+05  7.478782e+05\n",
      "std    9.291585e+05  9.291585e+05  9.291585e+05  9.291585e+05\n",
      "min    7.254000e+03  7.254000e+03  7.254000e+03  7.254000e+03\n",
      "25%    1.718665e+05  1.718665e+05  1.718665e+05  1.718665e+05\n",
      "50%    4.591248e+05  4.591248e+05  4.591248e+05  4.591248e+05\n",
      "75%    8.860948e+05  8.860948e+05  8.860948e+05  8.860948e+05\n",
      "max    5.944746e+06  5.944746e+06  5.944746e+06  5.944746e+06\n"
     ]
    }
   ],
   "source": [
    "for col in fill_list:\n",
    "    print(\"Statistics for columns: {}\".format(col))\n",
    "    print(pd.concat([useducation_df[col], useducation_df2[col],\n",
    "                     useducation_df3[col], useducation_df4[col]], axis=1).describe())"
   ]
  },
  {
   "cell_type": "code",
   "execution_count": null,
   "metadata": {},
   "outputs": [],
   "source": []
  }
 ],
 "metadata": {
  "kernelspec": {
   "display_name": "Python 3",
   "language": "python",
   "name": "python3"
  },
  "language_info": {
   "codemirror_mode": {
    "name": "ipython",
    "version": 3
   },
   "file_extension": ".py",
   "mimetype": "text/x-python",
   "name": "python",
   "nbconvert_exporter": "python",
   "pygments_lexer": "ipython3",
   "version": "3.7.1"
  }
 },
 "nbformat": 4,
 "nbformat_minor": 2
}
